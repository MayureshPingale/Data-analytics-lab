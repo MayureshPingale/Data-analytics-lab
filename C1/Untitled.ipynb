{
 "cells": [
  {
   "cell_type": "code",
   "execution_count": 1,
   "metadata": {},
   "outputs": [
    {
     "name": "stderr",
     "output_type": "stream",
     "text": [
      "/home/mayuresh/anaconda3/lib/python3.7/importlib/_bootstrap.py:219: RuntimeWarning: numpy.ufunc size changed, may indicate binary incompatibility. Expected 192 from C header, got 216 from PyObject\n",
      "  return f(*args, **kwds)\n"
     ]
    }
   ],
   "source": [
    "import pandas as pd\n",
    "import matplotlib.pyplot as plt\n",
    "import numpy as np"
   ]
  },
  {
   "cell_type": "code",
   "execution_count": 4,
   "metadata": {},
   "outputs": [
    {
     "data": {
      "text/html": [
       "<div>\n",
       "<style scoped>\n",
       "    .dataframe tbody tr th:only-of-type {\n",
       "        vertical-align: middle;\n",
       "    }\n",
       "\n",
       "    .dataframe tbody tr th {\n",
       "        vertical-align: top;\n",
       "    }\n",
       "\n",
       "    .dataframe thead th {\n",
       "        text-align: right;\n",
       "    }\n",
       "</style>\n",
       "<table border=\"1\" class=\"dataframe\">\n",
       "  <thead>\n",
       "    <tr style=\"text-align: right;\">\n",
       "      <th></th>\n",
       "      <th>sepal length</th>\n",
       "      <th>sepal width</th>\n",
       "      <th>petal length</th>\n",
       "      <th>petal width</th>\n",
       "      <th>class</th>\n",
       "    </tr>\n",
       "  </thead>\n",
       "  <tbody>\n",
       "    <tr>\n",
       "      <th>0</th>\n",
       "      <td>5.1</td>\n",
       "      <td>3.5</td>\n",
       "      <td>1.4</td>\n",
       "      <td>0.2</td>\n",
       "      <td>Iris-setosa</td>\n",
       "    </tr>\n",
       "    <tr>\n",
       "      <th>1</th>\n",
       "      <td>4.9</td>\n",
       "      <td>3.0</td>\n",
       "      <td>1.4</td>\n",
       "      <td>0.2</td>\n",
       "      <td>Iris-setosa</td>\n",
       "    </tr>\n",
       "    <tr>\n",
       "      <th>2</th>\n",
       "      <td>4.7</td>\n",
       "      <td>3.2</td>\n",
       "      <td>1.3</td>\n",
       "      <td>0.2</td>\n",
       "      <td>Iris-setosa</td>\n",
       "    </tr>\n",
       "    <tr>\n",
       "      <th>3</th>\n",
       "      <td>4.6</td>\n",
       "      <td>3.1</td>\n",
       "      <td>1.5</td>\n",
       "      <td>0.2</td>\n",
       "      <td>Iris-setosa</td>\n",
       "    </tr>\n",
       "    <tr>\n",
       "      <th>4</th>\n",
       "      <td>5.0</td>\n",
       "      <td>3.6</td>\n",
       "      <td>1.4</td>\n",
       "      <td>0.2</td>\n",
       "      <td>Iris-setosa</td>\n",
       "    </tr>\n",
       "  </tbody>\n",
       "</table>\n",
       "</div>"
      ],
      "text/plain": [
       "   sepal length  sepal width  petal length  petal width        class\n",
       "0           5.1          3.5           1.4          0.2  Iris-setosa\n",
       "1           4.9          3.0           1.4          0.2  Iris-setosa\n",
       "2           4.7          3.2           1.3          0.2  Iris-setosa\n",
       "3           4.6          3.1           1.5          0.2  Iris-setosa\n",
       "4           5.0          3.6           1.4          0.2  Iris-setosa"
      ]
     },
     "execution_count": 4,
     "metadata": {},
     "output_type": "execute_result"
    }
   ],
   "source": [
    "df = pd.read_csv(\"iris.data\",header=None)\n",
    "df.columns =['sepal length', 'sepal width','petal length','petal width','class']\n",
    "df.head()"
   ]
  },
  {
   "cell_type": "code",
   "execution_count": 9,
   "metadata": {},
   "outputs": [
    {
     "name": "stdout",
     "output_type": "stream",
     "text": [
      "Total Numerical Features:  4\n",
      "TOtal Categorical Features:  0\n"
     ]
    }
   ],
   "source": [
    "numerical_features = 0\n",
    "cateogrical_features = 0\n",
    "columns = ['sepal length', 'sepal width','petal length','petal width']\n",
    "for i in columns:\n",
    "    if(str(df[i].dtypes)  == \"float64\"):\n",
    "        numerical_features +=1\n",
    "    else:\n",
    "        cateogrical_features +=1\n",
    "    \n",
    "print(\"Total Numerical Features: \",numerical_features)\n",
    "print(\"TOtal Categorical Features: \",cateogrical_features)"
   ]
  },
  {
   "cell_type": "code",
   "execution_count": 12,
   "metadata": {},
   "outputs": [
    {
     "name": "stdout",
     "output_type": "stream",
     "text": [
      "sepal length\n",
      "count    150.000000\n",
      "mean       5.843333\n",
      "std        0.828066\n",
      "min        4.300000\n",
      "25%        5.100000\n",
      "50%        5.800000\n",
      "75%        6.400000\n",
      "max        7.900000\n",
      "Name: sepal length, dtype: float64\n",
      "\n",
      "\n",
      "sepal width\n",
      "count    150.000000\n",
      "mean       3.054000\n",
      "std        0.433594\n",
      "min        2.000000\n",
      "25%        2.800000\n",
      "50%        3.000000\n",
      "75%        3.300000\n",
      "max        4.400000\n",
      "Name: sepal width, dtype: float64\n",
      "\n",
      "\n",
      "petal length\n",
      "count    150.000000\n",
      "mean       3.758667\n",
      "std        1.764420\n",
      "min        1.000000\n",
      "25%        1.600000\n",
      "50%        4.350000\n",
      "75%        5.100000\n",
      "max        6.900000\n",
      "Name: petal length, dtype: float64\n",
      "\n",
      "\n",
      "petal width\n",
      "count    150.000000\n",
      "mean       1.198667\n",
      "std        0.763161\n",
      "min        0.100000\n",
      "25%        0.300000\n",
      "50%        1.300000\n",
      "75%        1.800000\n",
      "max        2.500000\n",
      "Name: petal width, dtype: float64\n",
      "\n",
      "\n"
     ]
    }
   ],
   "source": [
    "columns = ['sepal length', 'sepal width','petal length','petal width']\n",
    "    \n",
    "for i in columns:\n",
    "    print(i)\n",
    "    print(df[i].describe())\n",
    "    print(\"\\n\")\n"
   ]
  },
  {
   "cell_type": "code",
   "execution_count": 20,
   "metadata": {},
   "outputs": [
    {
     "name": "stdout",
     "output_type": "stream",
     "text": [
      "sepal length\n",
      "Mean:  5.843333333333335\n",
      "Median:  5.8\n",
      "Std:  0.8253012917851409\n",
      "Min:  4.3\n",
      "Max:  7.9\n",
      "25%:  5.1\n",
      "50%:  5.8\n",
      "75%:  6.4\n",
      "\n",
      "\n",
      "sepal width\n",
      "Mean:  3.0540000000000007\n",
      "Median:  3.0\n",
      "Std:  0.4321465800705435\n",
      "Min:  2.0\n",
      "Max:  4.4\n",
      "25%:  2.8\n",
      "50%:  3.0\n",
      "75%:  3.3\n",
      "\n",
      "\n",
      "petal length\n",
      "Mean:  3.7586666666666693\n",
      "Median:  4.35\n",
      "Std:  1.7585291834055201\n",
      "Min:  1.0\n",
      "Max:  6.9\n",
      "25%:  1.6\n",
      "50%:  4.35\n",
      "75%:  5.1\n",
      "\n",
      "\n",
      "petal width\n",
      "Mean:  1.1986666666666672\n",
      "Median:  1.3\n",
      "Std:  0.760612618588172\n",
      "Min:  0.1\n",
      "Max:  2.5\n",
      "25%:  0.3\n",
      "50%:  1.3\n",
      "75%:  1.8\n",
      "\n",
      "\n"
     ]
    }
   ],
   "source": [
    "# Without using descibe function\n",
    "columns = ['sepal length', 'sepal width','petal length','petal width']\n",
    "for i in columns:\n",
    "    print(i)\n",
    "    print(\"Mean: \", np.mean(df[i]))\n",
    "    print(\"Median: \",np.median(df[i]))\n",
    "    print(\"Std: \",np.std(df[i]))\n",
    "    print(\"Min: \",np.min(df[i]))\n",
    "    print(\"Max: \",np.max(df[i]))\n",
    "    print(\"25%: \",np.percentile(df[i],25))\n",
    "    print(\"50%: \",np.percentile(df[i],50))\n",
    "    print(\"75%: \",np.percentile(df[i],75))\n",
    "    print(\"\\n\")"
   ]
  },
  {
   "cell_type": "code",
   "execution_count": 26,
   "metadata": {},
   "outputs": [
    {
     "data": {
      "text/plain": [
       "array([[<matplotlib.axes._subplots.AxesSubplot object at 0x7f9e6c0d67f0>,\n",
       "        <matplotlib.axes._subplots.AxesSubplot object at 0x7f9e6c045710>],\n",
       "       [<matplotlib.axes._subplots.AxesSubplot object at 0x7f9e6cd1e940>,\n",
       "        <matplotlib.axes._subplots.AxesSubplot object at 0x7f9e6cf34ba8>]],\n",
       "      dtype=object)"
      ]
     },
     "execution_count": 26,
     "metadata": {},
     "output_type": "execute_result"
    },
    {
     "data": {
      "image/png": "[encoded data removed]",
      "text/plain": [
       "<Figure size 432x288 with 4 Axes>"
      ]
     },
     "metadata": {
      "needs_background": "light"
     },
     "output_type": "display_data"
    }
   ],
   "source": [
    "#HIstogram\n",
    "df.hist()"
   ]
  },
  {
   "cell_type": "code",
   "execution_count": 34,
   "metadata": {},
   "outputs": [
    {
     "data": {
      "image/png": "[encoded data removed]",
      "text/plain": [
       "<Figure size 432x288 with 1 Axes>"
      ]
     },
     "metadata": {
      "needs_background": "light"
     },
     "output_type": "display_data"
    },
    {
     "data": {
      "image/png": "[encoded data removed]",
      "text/plain": [
       "<Figure size 432x288 with 1 Axes>"
      ]
     },
     "metadata": {
      "needs_background": "light"
     },
     "output_type": "display_data"
    },
    {
     "data": {
      "image/png": "[encoded data removed]",
      "text/plain": [
       "<Figure size 432x288 with 1 Axes>"
      ]
     },
     "metadata": {
      "needs_background": "light"
     },
     "output_type": "display_data"
    },
    {
     "data": {
      "image/png": "[encoded data removed]",
      "text/plain": [
       "<Figure size 432x288 with 1 Axes>"
      ]
     },
     "metadata": {
      "needs_background": "light"
     },
     "output_type": "display_data"
    },
    {
     "data": {
      "image/png": "[encoded data removed]",
      "text/plain": [
       "<Figure size 432x288 with 1 Axes>"
      ]
     },
     "metadata": {
      "needs_background": "light"
     },
     "output_type": "display_data"
    }
   ],
   "source": [
    "for i in columns:\n",
    "    plt.title('')\n",
    "    df.boxplot(column=i,by='class')"
   ]
  },
  {
   "cell_type": "code",
   "execution_count": null,
   "metadata": {},
   "outputs": [],
   "source": []
  }
 ],
 "metadata": {
  "kernelspec": {
   "display_name": "Python 3",
   "language": "python",
   "name": "python3"
  },
  "language_info": {
   "codemirror_mode": {
    "name": "ipython",
    "version": 3
   },
   "file_extension": ".py",
   "mimetype": "text/x-python",
   "name": "python",
   "nbconvert_exporter": "python",
   "pygments_lexer": "ipython3",
   "version": "3.7.8"
  }
 },
 "nbformat": 4,
 "nbformat_minor": 4
}
